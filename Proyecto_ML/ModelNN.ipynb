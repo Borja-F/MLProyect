{
  "cells": [
    {
      "cell_type": "code",
      "execution_count": 1,
      "metadata": {
        "id": "XpIXrWKcCu-5"
      },
      "outputs": [],
      "source": [
        "import numpy as np\n",
        "import pandas as pd\n",
        "import seaborn as sns\n",
        "import ast\n",
        "\n",
        "from keras.layers import Conv1D, GlobalMaxPooling1D\n",
        "\n",
        "from sklearn.ensemble import RandomForestClassifier\n",
        "from sklearn.ensemble import VotingClassifier\n",
        "from sklearn.linear_model import LogisticRegression\n",
        "from sklearn.svm import SVC\n",
        "from sklearn.tree import DecisionTreeClassifier\n",
        "\n",
        "from sklearn.model_selection import train_test_split\n",
        "\n",
        "\n",
        "from sklearn.decomposition import PCA\n",
        "from sklearn.preprocessing import StandardScaler\n",
        "\n",
        "import pickle\n",
        "# Load libraries\n",
        "import numpy as np\n",
        "from sklearn import datasets\n",
        "from sklearn.linear_model import LogisticRegression, LinearRegression\n",
        "from sklearn.ensemble import RandomForestClassifier\n",
        "from sklearn.model_selection import GridSearchCV\n",
        "from sklearn.pipeline import Pipeline\n",
        "from sklearn.model_selection import RepeatedKFold\n",
        "from sklearn.model_selection import train_test_split\n",
        "from sklearn.preprocessing import StandardScaler\n",
        "from sklearn.impute import SimpleImputer\n",
        "from sklearn.pipeline import Pipeline\n",
        "from sklearn.model_selection import GridSearchCV\n",
        "from sklearn.feature_selection import SelectKBest\n",
        "from sklearn.model_selection import GridSearchCV\n",
        "from sklearn.metrics import accuracy_score\n",
        "# TensorFlow y tf.keras\n",
        "import tensorflow as tf\n",
        "from tensorflow import keras\n",
        "from sklearn.metrics import classification_report, confusion_matrix\n",
        "\n",
        "\n",
        "from sklearn.svm import SVC\n",
        "from sklearn.linear_model import LogisticRegression\n",
        "from sklearn.ensemble import RandomForestClassifier\n",
        "\n",
        "from sklearn import svm, datasets\n",
        "from sklearn.model_selection import GridSearchCV\n",
        "\n",
        "from tensorflow.keras.layers import Dense, Conv2D, Flatten, Activation, Dropout, MaxPooling2D\n",
        "from tensorflow.keras.models import Sequential, Model\n",
        "from tensorflow.keras.optimizers import Adam\n",
        "# Set random seed\n",
        "np.random.seed(42)\n",
        "from tensorflow.keras.optimizers import Adam"
      ]
    },
    {
      "cell_type": "code",
      "execution_count": null,
      "metadata": {
        "colab": {
          "base_uri": "https://localhost:8080/",
          "height": 39
        },
        "id": "0zhvVrz-OnXP",
        "outputId": "df213b97-bdf2-4727-ba3c-75b437066b81"
      },
      "outputs": [
        {
          "data": {
            "text/html": [
              "\n",
              "     <input type=\"file\" id=\"files-b845453f-a028-4844-a290-a58036e45f7b\" name=\"files[]\" multiple disabled\n",
              "        style=\"border:none\" />\n",
              "     <output id=\"result-b845453f-a028-4844-a290-a58036e45f7b\">\n",
              "      Upload widget is only available when the cell has been executed in the\n",
              "      current browser session. Please rerun this cell to enable.\n",
              "      </output>\n",
              "      <script>// Copyright 2017 Google LLC\n",
              "//\n",
              "// Licensed under the Apache License, Version 2.0 (the \"License\");\n",
              "// you may not use this file except in compliance with the License.\n",
              "// You may obtain a copy of the License at\n",
              "//\n",
              "//      http://www.apache.org/licenses/LICENSE-2.0\n",
              "//\n",
              "// Unless required by applicable law or agreed to in writing, software\n",
              "// distributed under the License is distributed on an \"AS IS\" BASIS,\n",
              "// WITHOUT WARRANTIES OR CONDITIONS OF ANY KIND, either express or implied.\n",
              "// See the License for the specific language governing permissions and\n",
              "// limitations under the License.\n",
              "\n",
              "/**\n",
              " * @fileoverview Helpers for google.colab Python module.\n",
              " */\n",
              "(function(scope) {\n",
              "function span(text, styleAttributes = {}) {\n",
              "  const element = document.createElement('span');\n",
              "  element.textContent = text;\n",
              "  for (const key of Object.keys(styleAttributes)) {\n",
              "    element.style[key] = styleAttributes[key];\n",
              "  }\n",
              "  return element;\n",
              "}\n",
              "\n",
              "// Max number of bytes which will be uploaded at a time.\n",
              "const MAX_PAYLOAD_SIZE = 100 * 1024;\n",
              "\n",
              "function _uploadFiles(inputId, outputId) {\n",
              "  const steps = uploadFilesStep(inputId, outputId);\n",
              "  const outputElement = document.getElementById(outputId);\n",
              "  // Cache steps on the outputElement to make it available for the next call\n",
              "  // to uploadFilesContinue from Python.\n",
              "  outputElement.steps = steps;\n",
              "\n",
              "  return _uploadFilesContinue(outputId);\n",
              "}\n",
              "\n",
              "// This is roughly an async generator (not supported in the browser yet),\n",
              "// where there are multiple asynchronous steps and the Python side is going\n",
              "// to poll for completion of each step.\n",
              "// This uses a Promise to block the python side on completion of each step,\n",
              "// then passes the result of the previous step as the input to the next step.\n",
              "function _uploadFilesContinue(outputId) {\n",
              "  const outputElement = document.getElementById(outputId);\n",
              "  const steps = outputElement.steps;\n",
              "\n",
              "  const next = steps.next(outputElement.lastPromiseValue);\n",
              "  return Promise.resolve(next.value.promise).then((value) => {\n",
              "    // Cache the last promise value to make it available to the next\n",
              "    // step of the generator.\n",
              "    outputElement.lastPromiseValue = value;\n",
              "    return next.value.response;\n",
              "  });\n",
              "}\n",
              "\n",
              "/**\n",
              " * Generator function which is called between each async step of the upload\n",
              " * process.\n",
              " * @param {string} inputId Element ID of the input file picker element.\n",
              " * @param {string} outputId Element ID of the output display.\n",
              " * @return {!Iterable<!Object>} Iterable of next steps.\n",
              " */\n",
              "function* uploadFilesStep(inputId, outputId) {\n",
              "  const inputElement = document.getElementById(inputId);\n",
              "  inputElement.disabled = false;\n",
              "\n",
              "  const outputElement = document.getElementById(outputId);\n",
              "  outputElement.innerHTML = '';\n",
              "\n",
              "  const pickedPromise = new Promise((resolve) => {\n",
              "    inputElement.addEventListener('change', (e) => {\n",
              "      resolve(e.target.files);\n",
              "    });\n",
              "  });\n",
              "\n",
              "  const cancel = document.createElement('button');\n",
              "  inputElement.parentElement.appendChild(cancel);\n",
              "  cancel.textContent = 'Cancel upload';\n",
              "  const cancelPromise = new Promise((resolve) => {\n",
              "    cancel.onclick = () => {\n",
              "      resolve(null);\n",
              "    };\n",
              "  });\n",
              "\n",
              "  // Wait for the user to pick the files.\n",
              "  const files = yield {\n",
              "    promise: Promise.race([pickedPromise, cancelPromise]),\n",
              "    response: {\n",
              "      action: 'starting',\n",
              "    }\n",
              "  };\n",
              "\n",
              "  cancel.remove();\n",
              "\n",
              "  // Disable the input element since further picks are not allowed.\n",
              "  inputElement.disabled = true;\n",
              "\n",
              "  if (!files) {\n",
              "    return {\n",
              "      response: {\n",
              "        action: 'complete',\n",
              "      }\n",
              "    };\n",
              "  }\n",
              "\n",
              "  for (const file of files) {\n",
              "    const li = document.createElement('li');\n",
              "    li.append(span(file.name, {fontWeight: 'bold'}));\n",
              "    li.append(span(\n",
              "        `(${file.type || 'n/a'}) - ${file.size} bytes, ` +\n",
              "        `last modified: ${\n",
              "            file.lastModifiedDate ? file.lastModifiedDate.toLocaleDateString() :\n",
              "                                    'n/a'} - `));\n",
              "    const percent = span('0% done');\n",
              "    li.appendChild(percent);\n",
              "\n",
              "    outputElement.appendChild(li);\n",
              "\n",
              "    const fileDataPromise = new Promise((resolve) => {\n",
              "      const reader = new FileReader();\n",
              "      reader.onload = (e) => {\n",
              "        resolve(e.target.result);\n",
              "      };\n",
              "      reader.readAsArrayBuffer(file);\n",
              "    });\n",
              "    // Wait for the data to be ready.\n",
              "    let fileData = yield {\n",
              "      promise: fileDataPromise,\n",
              "      response: {\n",
              "        action: 'continue',\n",
              "      }\n",
              "    };\n",
              "\n",
              "    // Use a chunked sending to avoid message size limits. See b/62115660.\n",
              "    let position = 0;\n",
              "    do {\n",
              "      const length = Math.min(fileData.byteLength - position, MAX_PAYLOAD_SIZE);\n",
              "      const chunk = new Uint8Array(fileData, position, length);\n",
              "      position += length;\n",
              "\n",
              "      const base64 = btoa(String.fromCharCode.apply(null, chunk));\n",
              "      yield {\n",
              "        response: {\n",
              "          action: 'append',\n",
              "          file: file.name,\n",
              "          data: base64,\n",
              "        },\n",
              "      };\n",
              "\n",
              "      let percentDone = fileData.byteLength === 0 ?\n",
              "          100 :\n",
              "          Math.round((position / fileData.byteLength) * 100);\n",
              "      percent.textContent = `${percentDone}% done`;\n",
              "\n",
              "    } while (position < fileData.byteLength);\n",
              "  }\n",
              "\n",
              "  // All done.\n",
              "  yield {\n",
              "    response: {\n",
              "      action: 'complete',\n",
              "    }\n",
              "  };\n",
              "}\n",
              "\n",
              "scope.google = scope.google || {};\n",
              "scope.google.colab = scope.google.colab || {};\n",
              "scope.google.colab._files = {\n",
              "  _uploadFiles,\n",
              "  _uploadFilesContinue,\n",
              "};\n",
              "})(self);\n",
              "</script> "
            ],
            "text/plain": [
              "<IPython.core.display.HTML object>"
            ]
          },
          "metadata": {},
          "output_type": "display_data"
        }
      ],
      "source": [
        "from google.colab import files\n",
        "uploaded = files.upload()"
      ]
    },
    {
      "cell_type": "code",
      "execution_count": 3,
      "metadata": {
        "id": "MVuzINUDSQmP"
      },
      "outputs": [],
      "source": [
        "df4 = pd.read_csv(\"/content/drive/MyDrive/Copia de Datos_opt.csv\",index_col=0)"
      ]
    },
    {
      "cell_type": "code",
      "source": [
        "replace_dict = {'popular': 0, 'normal': 1, 'impopular': 2}"
      ],
      "metadata": {
        "id": "xuqYXIv8sgI8"
      },
      "execution_count": 4,
      "outputs": []
    },
    {
      "cell_type": "code",
      "source": [
        "df4[\"label\"] = df4[\"label\"].replace(replace_dict)"
      ],
      "metadata": {
        "id": "deWe6ww1sXPO"
      },
      "execution_count": 5,
      "outputs": []
    },
    {
      "cell_type": "code",
      "source": [],
      "metadata": {
        "id": "bfMafQZ6sfXu"
      },
      "execution_count": null,
      "outputs": []
    },
    {
      "cell_type": "code",
      "source": [
        "X = df4.drop('label', axis=1)\n",
        "y = df4['label']"
      ],
      "metadata": {
        "id": "OU6_HI-ZqBvK"
      },
      "execution_count": 6,
      "outputs": []
    },
    {
      "cell_type": "code",
      "source": [
        "\n",
        "X_train, X_test, y_train, y_test = train_test_split(X,\n",
        "                                                    y,\n",
        "                                                    test_size = 0.20,\n",
        "                                                    random_state=42)"
      ],
      "metadata": {
        "id": "yybZoZrFqMGQ"
      },
      "execution_count": 7,
      "outputs": []
    },
    {
      "cell_type": "code",
      "source": [
        "X_train.shape"
      ],
      "metadata": {
        "colab": {
          "base_uri": "https://localhost:8080/"
        },
        "id": "kdlHmgfgqUJD",
        "outputId": "d1460de5-7508-4b30-c035-98146627c938"
      },
      "execution_count": 32,
      "outputs": [
        {
          "output_type": "execute_result",
          "data": {
            "text/plain": [
              "(12680, 804)"
            ]
          },
          "metadata": {},
          "execution_count": 32
        }
      ]
    },
    {
      "cell_type": "code",
      "source": [
        "X_train.info()"
      ],
      "metadata": {
        "colab": {
          "base_uri": "https://localhost:8080/"
        },
        "id": "Su0sbs76r8zb",
        "outputId": "2e7772d0-9526-4e4b-fb93-ee88660f112a"
      },
      "execution_count": 26,
      "outputs": [
        {
          "output_type": "stream",
          "name": "stdout",
          "text": [
            "<class 'pandas.core.frame.DataFrame'>\n",
            "Int64Index: 12680 entries, 2333 to 7270\n",
            "Columns: 804 entries, original_language to Unnamed: 805\n",
            "dtypes: int64(804)\n",
            "memory usage: 77.9 MB\n"
          ]
        }
      ]
    },
    {
      "cell_type": "code",
      "source": [
        "model = keras.models.Sequential()\n",
        "\n",
        "model.add(keras.layers.Dense(input_shape=(804,), units=512, activation=\"relu\"))\n",
        "model.add(keras.layers.BatchNormalization())\n",
        "model.add(keras.layers.Dropout(0.2))\n",
        "\n",
        "model.add(keras.layers.Dense(256))\n",
        "model.add(keras.layers.LeakyReLU(alpha=0.1))\n",
        "model.add(keras.layers.Dropout(0.2))\n",
        "\n",
        "model.add(keras.layers.Dense(128))\n",
        "model.add(keras.layers.PReLU())\n",
        "model.add(keras.layers.Dropout(0.3))\n",
        "\n",
        "model.add(keras.layers.Dense(64))\n",
        "model.add(keras.layers.ELU(alpha=1.0))\n",
        "model.add(keras.layers.Dropout(0.3))\n",
        "\n",
        "model.add(keras.layers.Dense(32, activation=\"relu\"))\n",
        "model.add(keras.layers.Dropout(0.3))\n",
        "\n",
        "model.add(keras.layers.Dense(units=3, activation='softmax'))"
      ],
      "metadata": {
        "id": "u6NE-97wbvZE"
      },
      "execution_count": 25,
      "outputs": []
    },
    {
      "cell_type": "code",
      "source": [
        "model.compile(\n",
        "    optimizer = Adam(learning_rate=0.00001),\n",
        "    loss = \"sparse_categorical_crossentropy\",\n",
        "    metrics = [\"accuracy\"])"
      ],
      "metadata": {
        "id": "zbI3NAEmxYB6"
      },
      "execution_count": 26,
      "outputs": []
    },
    {
      "cell_type": "code",
      "source": [
        "early_stopping_cb = keras.callbacks.EarlyStopping(patience=10)\n",
        "checkpoint_cb = keras.callbacks.ModelCheckpoint(\"callback_raro.h5\",\n",
        "                                                save_best_only=True)"
      ],
      "metadata": {
        "id": "q1yP3_ChxkAS"
      },
      "execution_count": 27,
      "outputs": []
    },
    {
      "cell_type": "code",
      "source": [
        "history = model.fit(X_train,\n",
        "                    y_train,\n",
        "                    epochs=1000,\n",
        "                    batch_size=128,\n",
        "                    validation_split=0.2,\n",
        "                    callbacks = [early_stopping_cb, checkpoint_cb])"
      ],
      "metadata": {
        "colab": {
          "base_uri": "https://localhost:8080/"
        },
        "id": "z-XFNENzxmSR",
        "outputId": "1bea66d4-da1d-49be-e317-2199fb52986e"
      },
      "execution_count": 28,
      "outputs": [
        {
          "output_type": "stream",
          "name": "stdout",
          "text": [
            "Epoch 1/1000\n",
            "80/80 [==============================] - 5s 39ms/step - loss: 1.2272 - accuracy: 0.4416 - val_loss: 1.0539 - val_accuracy: 0.5225\n",
            "Epoch 2/1000\n",
            "80/80 [==============================] - 2s 30ms/step - loss: 1.1404 - accuracy: 0.4838 - val_loss: 1.0132 - val_accuracy: 0.5982\n",
            "Epoch 3/1000\n",
            "80/80 [==============================] - 2s 22ms/step - loss: 1.1078 - accuracy: 0.4956 - val_loss: 0.9621 - val_accuracy: 0.6353\n",
            "Epoch 4/1000\n",
            "80/80 [==============================] - 2s 22ms/step - loss: 1.0422 - accuracy: 0.5212 - val_loss: 0.9052 - val_accuracy: 0.6550\n",
            "Epoch 5/1000\n",
            "80/80 [==============================] - 2s 22ms/step - loss: 1.0146 - accuracy: 0.5377 - val_loss: 0.8496 - val_accuracy: 0.6660\n",
            "Epoch 6/1000\n",
            "80/80 [==============================] - 2s 21ms/step - loss: 0.9911 - accuracy: 0.5545 - val_loss: 0.8066 - val_accuracy: 0.6743\n",
            "Epoch 7/1000\n",
            "80/80 [==============================] - 2s 22ms/step - loss: 0.9597 - accuracy: 0.5645 - val_loss: 0.7763 - val_accuracy: 0.6802\n",
            "Epoch 8/1000\n",
            "80/80 [==============================] - 2s 29ms/step - loss: 0.9383 - accuracy: 0.5764 - val_loss: 0.7554 - val_accuracy: 0.6838\n",
            "Epoch 9/1000\n",
            "80/80 [==============================] - 3s 35ms/step - loss: 0.9176 - accuracy: 0.5798 - val_loss: 0.7407 - val_accuracy: 0.6869\n",
            "Epoch 10/1000\n",
            "80/80 [==============================] - 2s 29ms/step - loss: 0.9007 - accuracy: 0.5985 - val_loss: 0.7285 - val_accuracy: 0.6924\n",
            "Epoch 11/1000\n",
            "80/80 [==============================] - 3s 34ms/step - loss: 0.8875 - accuracy: 0.5978 - val_loss: 0.7183 - val_accuracy: 0.6956\n",
            "Epoch 12/1000\n",
            "80/80 [==============================] - 2s 26ms/step - loss: 0.8638 - accuracy: 0.6153 - val_loss: 0.7099 - val_accuracy: 0.6979\n",
            "Epoch 13/1000\n",
            "80/80 [==============================] - 2s 22ms/step - loss: 0.8623 - accuracy: 0.6107 - val_loss: 0.7028 - val_accuracy: 0.7003\n",
            "Epoch 14/1000\n",
            "80/80 [==============================] - 2s 25ms/step - loss: 0.8439 - accuracy: 0.6192 - val_loss: 0.6959 - val_accuracy: 0.7043\n",
            "Epoch 15/1000\n",
            "80/80 [==============================] - 3s 33ms/step - loss: 0.8335 - accuracy: 0.6202 - val_loss: 0.6902 - val_accuracy: 0.7043\n",
            "Epoch 16/1000\n",
            "80/80 [==============================] - 2s 29ms/step - loss: 0.8065 - accuracy: 0.6314 - val_loss: 0.6839 - val_accuracy: 0.7047\n",
            "Epoch 17/1000\n",
            "80/80 [==============================] - 2s 22ms/step - loss: 0.8105 - accuracy: 0.6285 - val_loss: 0.6787 - val_accuracy: 0.7074\n",
            "Epoch 18/1000\n",
            "80/80 [==============================] - 2s 22ms/step - loss: 0.8044 - accuracy: 0.6395 - val_loss: 0.6736 - val_accuracy: 0.7094\n",
            "Epoch 19/1000\n",
            "80/80 [==============================] - 2s 22ms/step - loss: 0.7857 - accuracy: 0.6436 - val_loss: 0.6690 - val_accuracy: 0.7114\n",
            "Epoch 20/1000\n",
            "80/80 [==============================] - 2s 23ms/step - loss: 0.7813 - accuracy: 0.6419 - val_loss: 0.6650 - val_accuracy: 0.7114\n",
            "Epoch 21/1000\n",
            "80/80 [==============================] - 2s 22ms/step - loss: 0.7760 - accuracy: 0.6436 - val_loss: 0.6610 - val_accuracy: 0.7133\n",
            "Epoch 22/1000\n",
            "80/80 [==============================] - 3s 32ms/step - loss: 0.7691 - accuracy: 0.6534 - val_loss: 0.6574 - val_accuracy: 0.7098\n",
            "Epoch 23/1000\n",
            "80/80 [==============================] - 3s 35ms/step - loss: 0.7662 - accuracy: 0.6488 - val_loss: 0.6540 - val_accuracy: 0.7121\n",
            "Epoch 24/1000\n",
            "80/80 [==============================] - 2s 22ms/step - loss: 0.7646 - accuracy: 0.6516 - val_loss: 0.6507 - val_accuracy: 0.7149\n",
            "Epoch 25/1000\n",
            "80/80 [==============================] - 2s 22ms/step - loss: 0.7512 - accuracy: 0.6615 - val_loss: 0.6477 - val_accuracy: 0.7157\n",
            "Epoch 26/1000\n",
            "80/80 [==============================] - 2s 23ms/step - loss: 0.7494 - accuracy: 0.6620 - val_loss: 0.6445 - val_accuracy: 0.7161\n",
            "Epoch 27/1000\n",
            "80/80 [==============================] - 2s 22ms/step - loss: 0.7423 - accuracy: 0.6655 - val_loss: 0.6417 - val_accuracy: 0.7192\n",
            "Epoch 28/1000\n",
            "80/80 [==============================] - 2s 22ms/step - loss: 0.7267 - accuracy: 0.6687 - val_loss: 0.6389 - val_accuracy: 0.7204\n",
            "Epoch 29/1000\n",
            "80/80 [==============================] - 2s 28ms/step - loss: 0.7313 - accuracy: 0.6723 - val_loss: 0.6361 - val_accuracy: 0.7212\n",
            "Epoch 30/1000\n",
            "80/80 [==============================] - 3s 34ms/step - loss: 0.7233 - accuracy: 0.6737 - val_loss: 0.6338 - val_accuracy: 0.7216\n",
            "Epoch 31/1000\n",
            "80/80 [==============================] - 2s 25ms/step - loss: 0.7216 - accuracy: 0.6706 - val_loss: 0.6315 - val_accuracy: 0.7252\n",
            "Epoch 32/1000\n",
            "80/80 [==============================] - 2s 22ms/step - loss: 0.7243 - accuracy: 0.6703 - val_loss: 0.6294 - val_accuracy: 0.7259\n",
            "Epoch 33/1000\n",
            "80/80 [==============================] - 2s 22ms/step - loss: 0.7217 - accuracy: 0.6745 - val_loss: 0.6277 - val_accuracy: 0.7275\n",
            "Epoch 34/1000\n",
            "80/80 [==============================] - 2s 22ms/step - loss: 0.7092 - accuracy: 0.6783 - val_loss: 0.6259 - val_accuracy: 0.7275\n",
            "Epoch 35/1000\n",
            "80/80 [==============================] - 2s 22ms/step - loss: 0.6971 - accuracy: 0.6802 - val_loss: 0.6239 - val_accuracy: 0.7267\n",
            "Epoch 36/1000\n",
            "80/80 [==============================] - 2s 23ms/step - loss: 0.7095 - accuracy: 0.6722 - val_loss: 0.6223 - val_accuracy: 0.7271\n",
            "Epoch 37/1000\n",
            "80/80 [==============================] - 3s 33ms/step - loss: 0.7037 - accuracy: 0.6837 - val_loss: 0.6207 - val_accuracy: 0.7267\n",
            "Epoch 38/1000\n",
            "80/80 [==============================] - 3s 32ms/step - loss: 0.6956 - accuracy: 0.6857 - val_loss: 0.6190 - val_accuracy: 0.7271\n",
            "Epoch 39/1000\n",
            "80/80 [==============================] - 2s 22ms/step - loss: 0.6890 - accuracy: 0.6914 - val_loss: 0.6174 - val_accuracy: 0.7275\n",
            "Epoch 40/1000\n",
            "80/80 [==============================] - 2s 22ms/step - loss: 0.6790 - accuracy: 0.6935 - val_loss: 0.6159 - val_accuracy: 0.7271\n",
            "Epoch 41/1000\n",
            "80/80 [==============================] - 2s 22ms/step - loss: 0.6872 - accuracy: 0.6910 - val_loss: 0.6142 - val_accuracy: 0.7279\n",
            "Epoch 42/1000\n",
            "80/80 [==============================] - 2s 22ms/step - loss: 0.6735 - accuracy: 0.6930 - val_loss: 0.6129 - val_accuracy: 0.7287\n",
            "Epoch 43/1000\n",
            "80/80 [==============================] - 2s 22ms/step - loss: 0.6753 - accuracy: 0.6930 - val_loss: 0.6115 - val_accuracy: 0.7287\n",
            "Epoch 44/1000\n",
            "80/80 [==============================] - 2s 29ms/step - loss: 0.6706 - accuracy: 0.6995 - val_loss: 0.6101 - val_accuracy: 0.7271\n",
            "Epoch 45/1000\n",
            "80/80 [==============================] - 3s 33ms/step - loss: 0.6698 - accuracy: 0.7016 - val_loss: 0.6086 - val_accuracy: 0.7279\n",
            "Epoch 46/1000\n",
            "80/80 [==============================] - 2s 25ms/step - loss: 0.6759 - accuracy: 0.6942 - val_loss: 0.6072 - val_accuracy: 0.7295\n",
            "Epoch 47/1000\n",
            "80/80 [==============================] - 2s 23ms/step - loss: 0.6653 - accuracy: 0.6970 - val_loss: 0.6060 - val_accuracy: 0.7267\n",
            "Epoch 48/1000\n",
            "80/80 [==============================] - 2s 22ms/step - loss: 0.6694 - accuracy: 0.7004 - val_loss: 0.6051 - val_accuracy: 0.7275\n",
            "Epoch 49/1000\n",
            "80/80 [==============================] - 2s 22ms/step - loss: 0.6549 - accuracy: 0.7024 - val_loss: 0.6040 - val_accuracy: 0.7275\n",
            "Epoch 50/1000\n",
            "80/80 [==============================] - 2s 22ms/step - loss: 0.6589 - accuracy: 0.7015 - val_loss: 0.6028 - val_accuracy: 0.7287\n",
            "Epoch 51/1000\n",
            "80/80 [==============================] - 2s 23ms/step - loss: 0.6535 - accuracy: 0.7054 - val_loss: 0.6021 - val_accuracy: 0.7283\n",
            "Epoch 52/1000\n",
            "80/80 [==============================] - 3s 34ms/step - loss: 0.6533 - accuracy: 0.7005 - val_loss: 0.6008 - val_accuracy: 0.7299\n",
            "Epoch 53/1000\n",
            "80/80 [==============================] - 3s 32ms/step - loss: 0.6584 - accuracy: 0.7055 - val_loss: 0.5995 - val_accuracy: 0.7279\n",
            "Epoch 54/1000\n",
            "80/80 [==============================] - 2s 22ms/step - loss: 0.6498 - accuracy: 0.7016 - val_loss: 0.5987 - val_accuracy: 0.7283\n",
            "Epoch 55/1000\n",
            "80/80 [==============================] - 2s 22ms/step - loss: 0.6403 - accuracy: 0.7117 - val_loss: 0.5975 - val_accuracy: 0.7287\n",
            "Epoch 56/1000\n",
            "80/80 [==============================] - 2s 22ms/step - loss: 0.6497 - accuracy: 0.7098 - val_loss: 0.5967 - val_accuracy: 0.7287\n",
            "Epoch 57/1000\n",
            "80/80 [==============================] - 2s 22ms/step - loss: 0.6455 - accuracy: 0.7049 - val_loss: 0.5956 - val_accuracy: 0.7303\n",
            "Epoch 58/1000\n",
            "80/80 [==============================] - 2s 22ms/step - loss: 0.6433 - accuracy: 0.7100 - val_loss: 0.5945 - val_accuracy: 0.7307\n",
            "Epoch 59/1000\n",
            "80/80 [==============================] - 2s 28ms/step - loss: 0.6372 - accuracy: 0.7157 - val_loss: 0.5935 - val_accuracy: 0.7323\n",
            "Epoch 60/1000\n",
            "80/80 [==============================] - 3s 34ms/step - loss: 0.6373 - accuracy: 0.7064 - val_loss: 0.5927 - val_accuracy: 0.7319\n",
            "Epoch 61/1000\n",
            "80/80 [==============================] - 2s 26ms/step - loss: 0.6398 - accuracy: 0.7095 - val_loss: 0.5919 - val_accuracy: 0.7326\n",
            "Epoch 62/1000\n",
            "80/80 [==============================] - 2s 22ms/step - loss: 0.6315 - accuracy: 0.7182 - val_loss: 0.5912 - val_accuracy: 0.7338\n",
            "Epoch 63/1000\n",
            "80/80 [==============================] - 2s 22ms/step - loss: 0.6339 - accuracy: 0.7147 - val_loss: 0.5902 - val_accuracy: 0.7354\n",
            "Epoch 64/1000\n",
            "80/80 [==============================] - 2s 22ms/step - loss: 0.6185 - accuracy: 0.7221 - val_loss: 0.5891 - val_accuracy: 0.7350\n",
            "Epoch 65/1000\n",
            "80/80 [==============================] - 2s 22ms/step - loss: 0.6245 - accuracy: 0.7214 - val_loss: 0.5882 - val_accuracy: 0.7354\n",
            "Epoch 66/1000\n",
            "80/80 [==============================] - 2s 23ms/step - loss: 0.6218 - accuracy: 0.7135 - val_loss: 0.5870 - val_accuracy: 0.7358\n",
            "Epoch 67/1000\n",
            "80/80 [==============================] - 3s 32ms/step - loss: 0.6274 - accuracy: 0.7168 - val_loss: 0.5863 - val_accuracy: 0.7362\n",
            "Epoch 68/1000\n",
            "80/80 [==============================] - 3s 32ms/step - loss: 0.6124 - accuracy: 0.7228 - val_loss: 0.5855 - val_accuracy: 0.7366\n",
            "Epoch 69/1000\n",
            "80/80 [==============================] - 2s 22ms/step - loss: 0.6182 - accuracy: 0.7249 - val_loss: 0.5845 - val_accuracy: 0.7358\n",
            "Epoch 70/1000\n",
            "80/80 [==============================] - 2s 22ms/step - loss: 0.6176 - accuracy: 0.7244 - val_loss: 0.5838 - val_accuracy: 0.7390\n",
            "Epoch 71/1000\n",
            "80/80 [==============================] - 2s 23ms/step - loss: 0.6178 - accuracy: 0.7195 - val_loss: 0.5829 - val_accuracy: 0.7390\n",
            "Epoch 72/1000\n",
            "80/80 [==============================] - 2s 23ms/step - loss: 0.6113 - accuracy: 0.7205 - val_loss: 0.5824 - val_accuracy: 0.7394\n",
            "Epoch 73/1000\n",
            "80/80 [==============================] - 2s 21ms/step - loss: 0.6114 - accuracy: 0.7266 - val_loss: 0.5815 - val_accuracy: 0.7401\n",
            "Epoch 74/1000\n",
            "80/80 [==============================] - 3s 31ms/step - loss: 0.6076 - accuracy: 0.7216 - val_loss: 0.5807 - val_accuracy: 0.7405\n",
            "Epoch 75/1000\n",
            "80/80 [==============================] - 3s 34ms/step - loss: 0.6122 - accuracy: 0.7210 - val_loss: 0.5799 - val_accuracy: 0.7397\n",
            "Epoch 76/1000\n",
            "80/80 [==============================] - 2s 23ms/step - loss: 0.5963 - accuracy: 0.7338 - val_loss: 0.5790 - val_accuracy: 0.7394\n",
            "Epoch 77/1000\n",
            "80/80 [==============================] - 2s 22ms/step - loss: 0.6054 - accuracy: 0.7260 - val_loss: 0.5784 - val_accuracy: 0.7409\n",
            "Epoch 78/1000\n",
            "80/80 [==============================] - 2s 22ms/step - loss: 0.5948 - accuracy: 0.7330 - val_loss: 0.5776 - val_accuracy: 0.7421\n",
            "Epoch 79/1000\n",
            "80/80 [==============================] - 2s 22ms/step - loss: 0.5922 - accuracy: 0.7381 - val_loss: 0.5768 - val_accuracy: 0.7425\n",
            "Epoch 80/1000\n",
            "80/80 [==============================] - 2s 23ms/step - loss: 0.5963 - accuracy: 0.7314 - val_loss: 0.5763 - val_accuracy: 0.7429\n",
            "Epoch 81/1000\n",
            "80/80 [==============================] - 2s 27ms/step - loss: 0.5961 - accuracy: 0.7326 - val_loss: 0.5757 - val_accuracy: 0.7409\n",
            "Epoch 82/1000\n",
            "80/80 [==============================] - 3s 36ms/step - loss: 0.5964 - accuracy: 0.7326 - val_loss: 0.5749 - val_accuracy: 0.7413\n",
            "Epoch 83/1000\n",
            "80/80 [==============================] - 2s 25ms/step - loss: 0.5933 - accuracy: 0.7342 - val_loss: 0.5744 - val_accuracy: 0.7421\n",
            "Epoch 84/1000\n",
            "80/80 [==============================] - 2s 22ms/step - loss: 0.5900 - accuracy: 0.7320 - val_loss: 0.5738 - val_accuracy: 0.7425\n",
            "Epoch 85/1000\n",
            "80/80 [==============================] - 2s 23ms/step - loss: 0.5921 - accuracy: 0.7335 - val_loss: 0.5732 - val_accuracy: 0.7417\n",
            "Epoch 86/1000\n",
            "80/80 [==============================] - 2s 22ms/step - loss: 0.5935 - accuracy: 0.7347 - val_loss: 0.5725 - val_accuracy: 0.7413\n",
            "Epoch 87/1000\n",
            "80/80 [==============================] - 2s 23ms/step - loss: 0.5936 - accuracy: 0.7350 - val_loss: 0.5721 - val_accuracy: 0.7413\n",
            "Epoch 88/1000\n",
            "80/80 [==============================] - 2s 23ms/step - loss: 0.5816 - accuracy: 0.7393 - val_loss: 0.5714 - val_accuracy: 0.7425\n",
            "Epoch 89/1000\n",
            "80/80 [==============================] - 3s 33ms/step - loss: 0.5756 - accuracy: 0.7448 - val_loss: 0.5706 - val_accuracy: 0.7437\n",
            "Epoch 90/1000\n",
            "80/80 [==============================] - 3s 31ms/step - loss: 0.5762 - accuracy: 0.7427 - val_loss: 0.5702 - val_accuracy: 0.7421\n",
            "Epoch 91/1000\n",
            "80/80 [==============================] - 2s 22ms/step - loss: 0.5724 - accuracy: 0.7420 - val_loss: 0.5694 - val_accuracy: 0.7441\n",
            "Epoch 92/1000\n",
            "80/80 [==============================] - 2s 22ms/step - loss: 0.5733 - accuracy: 0.7426 - val_loss: 0.5690 - val_accuracy: 0.7445\n",
            "Epoch 93/1000\n",
            "80/80 [==============================] - 2s 22ms/step - loss: 0.5700 - accuracy: 0.7451 - val_loss: 0.5685 - val_accuracy: 0.7437\n",
            "Epoch 94/1000\n",
            "80/80 [==============================] - 2s 22ms/step - loss: 0.5670 - accuracy: 0.7480 - val_loss: 0.5679 - val_accuracy: 0.7429\n",
            "Epoch 95/1000\n",
            "80/80 [==============================] - 2s 22ms/step - loss: 0.5661 - accuracy: 0.7435 - val_loss: 0.5675 - val_accuracy: 0.7433\n",
            "Epoch 96/1000\n",
            "80/80 [==============================] - 2s 30ms/step - loss: 0.5687 - accuracy: 0.7461 - val_loss: 0.5671 - val_accuracy: 0.7437\n",
            "Epoch 97/1000\n",
            "80/80 [==============================] - 3s 34ms/step - loss: 0.5672 - accuracy: 0.7456 - val_loss: 0.5668 - val_accuracy: 0.7437\n",
            "Epoch 98/1000\n",
            "80/80 [==============================] - 2s 25ms/step - loss: 0.5558 - accuracy: 0.7456 - val_loss: 0.5666 - val_accuracy: 0.7445\n",
            "Epoch 99/1000\n",
            "80/80 [==============================] - 2s 22ms/step - loss: 0.5624 - accuracy: 0.7479 - val_loss: 0.5660 - val_accuracy: 0.7461\n",
            "Epoch 100/1000\n",
            "80/80 [==============================] - 2s 23ms/step - loss: 0.5665 - accuracy: 0.7481 - val_loss: 0.5657 - val_accuracy: 0.7449\n",
            "Epoch 101/1000\n",
            "80/80 [==============================] - 2s 22ms/step - loss: 0.5581 - accuracy: 0.7504 - val_loss: 0.5651 - val_accuracy: 0.7465\n",
            "Epoch 102/1000\n",
            "80/80 [==============================] - 2s 23ms/step - loss: 0.5576 - accuracy: 0.7485 - val_loss: 0.5644 - val_accuracy: 0.7465\n",
            "Epoch 103/1000\n",
            "80/80 [==============================] - 2s 25ms/step - loss: 0.5537 - accuracy: 0.7504 - val_loss: 0.5641 - val_accuracy: 0.7468\n",
            "Epoch 104/1000\n",
            "80/80 [==============================] - 3s 35ms/step - loss: 0.5505 - accuracy: 0.7566 - val_loss: 0.5638 - val_accuracy: 0.7488\n",
            "Epoch 105/1000\n",
            "80/80 [==============================] - 2s 30ms/step - loss: 0.5556 - accuracy: 0.7518 - val_loss: 0.5635 - val_accuracy: 0.7476\n",
            "Epoch 106/1000\n",
            "80/80 [==============================] - 2s 22ms/step - loss: 0.5471 - accuracy: 0.7562 - val_loss: 0.5630 - val_accuracy: 0.7504\n",
            "Epoch 107/1000\n",
            "80/80 [==============================] - 2s 22ms/step - loss: 0.5454 - accuracy: 0.7566 - val_loss: 0.5629 - val_accuracy: 0.7480\n",
            "Epoch 108/1000\n",
            "80/80 [==============================] - 2s 23ms/step - loss: 0.5493 - accuracy: 0.7553 - val_loss: 0.5624 - val_accuracy: 0.7496\n",
            "Epoch 109/1000\n",
            "80/80 [==============================] - 2s 23ms/step - loss: 0.5369 - accuracy: 0.7627 - val_loss: 0.5616 - val_accuracy: 0.7512\n",
            "Epoch 110/1000\n",
            "80/80 [==============================] - 2s 23ms/step - loss: 0.5387 - accuracy: 0.7632 - val_loss: 0.5614 - val_accuracy: 0.7528\n",
            "Epoch 111/1000\n",
            "80/80 [==============================] - 3s 33ms/step - loss: 0.5392 - accuracy: 0.7582 - val_loss: 0.5613 - val_accuracy: 0.7528\n",
            "Epoch 112/1000\n",
            "80/80 [==============================] - 3s 34ms/step - loss: 0.5392 - accuracy: 0.7613 - val_loss: 0.5610 - val_accuracy: 0.7524\n",
            "Epoch 113/1000\n",
            "80/80 [==============================] - 2s 25ms/step - loss: 0.5352 - accuracy: 0.7641 - val_loss: 0.5609 - val_accuracy: 0.7516\n",
            "Epoch 114/1000\n",
            "80/80 [==============================] - 2s 22ms/step - loss: 0.5353 - accuracy: 0.7624 - val_loss: 0.5609 - val_accuracy: 0.7508\n",
            "Epoch 115/1000\n",
            "80/80 [==============================] - 2s 23ms/step - loss: 0.5292 - accuracy: 0.7666 - val_loss: 0.5606 - val_accuracy: 0.7504\n",
            "Epoch 116/1000\n",
            "80/80 [==============================] - 2s 23ms/step - loss: 0.5309 - accuracy: 0.7644 - val_loss: 0.5598 - val_accuracy: 0.7520\n",
            "Epoch 117/1000\n",
            "80/80 [==============================] - 2s 23ms/step - loss: 0.5305 - accuracy: 0.7693 - val_loss: 0.5596 - val_accuracy: 0.7524\n",
            "Epoch 118/1000\n",
            "80/80 [==============================] - 2s 30ms/step - loss: 0.5320 - accuracy: 0.7598 - val_loss: 0.5596 - val_accuracy: 0.7535\n",
            "Epoch 119/1000\n",
            "80/80 [==============================] - 3s 36ms/step - loss: 0.5307 - accuracy: 0.7588 - val_loss: 0.5593 - val_accuracy: 0.7524\n",
            "Epoch 120/1000\n",
            "80/80 [==============================] - 2s 23ms/step - loss: 0.5339 - accuracy: 0.7619 - val_loss: 0.5590 - val_accuracy: 0.7528\n",
            "Epoch 121/1000\n",
            "80/80 [==============================] - 2s 30ms/step - loss: 0.5259 - accuracy: 0.7675 - val_loss: 0.5589 - val_accuracy: 0.7535\n",
            "Epoch 122/1000\n",
            "80/80 [==============================] - 2s 28ms/step - loss: 0.5206 - accuracy: 0.7707 - val_loss: 0.5589 - val_accuracy: 0.7532\n",
            "Epoch 123/1000\n",
            "80/80 [==============================] - 2s 25ms/step - loss: 0.5209 - accuracy: 0.7624 - val_loss: 0.5584 - val_accuracy: 0.7543\n",
            "Epoch 124/1000\n",
            "80/80 [==============================] - 2s 29ms/step - loss: 0.5163 - accuracy: 0.7705 - val_loss: 0.5582 - val_accuracy: 0.7547\n",
            "Epoch 125/1000\n",
            "80/80 [==============================] - 3s 34ms/step - loss: 0.5230 - accuracy: 0.7678 - val_loss: 0.5582 - val_accuracy: 0.7535\n",
            "Epoch 126/1000\n",
            "80/80 [==============================] - 2s 29ms/step - loss: 0.5238 - accuracy: 0.7734 - val_loss: 0.5582 - val_accuracy: 0.7539\n",
            "Epoch 127/1000\n",
            "80/80 [==============================] - 2s 23ms/step - loss: 0.5092 - accuracy: 0.7790 - val_loss: 0.5580 - val_accuracy: 0.7539\n",
            "Epoch 128/1000\n",
            "80/80 [==============================] - 2s 22ms/step - loss: 0.5133 - accuracy: 0.7681 - val_loss: 0.5578 - val_accuracy: 0.7535\n",
            "Epoch 129/1000\n",
            "80/80 [==============================] - 2s 22ms/step - loss: 0.5053 - accuracy: 0.7771 - val_loss: 0.5580 - val_accuracy: 0.7539\n",
            "Epoch 130/1000\n",
            "80/80 [==============================] - 2s 22ms/step - loss: 0.5091 - accuracy: 0.7758 - val_loss: 0.5581 - val_accuracy: 0.7547\n",
            "Epoch 131/1000\n",
            "80/80 [==============================] - 2s 22ms/step - loss: 0.5056 - accuracy: 0.7787 - val_loss: 0.5578 - val_accuracy: 0.7547\n",
            "Epoch 132/1000\n",
            "80/80 [==============================] - 3s 33ms/step - loss: 0.5035 - accuracy: 0.7797 - val_loss: 0.5581 - val_accuracy: 0.7547\n",
            "Epoch 133/1000\n",
            "80/80 [==============================] - 3s 34ms/step - loss: 0.5049 - accuracy: 0.7760 - val_loss: 0.5583 - val_accuracy: 0.7547\n",
            "Epoch 134/1000\n",
            "80/80 [==============================] - 2s 22ms/step - loss: 0.5102 - accuracy: 0.7787 - val_loss: 0.5580 - val_accuracy: 0.7532\n",
            "Epoch 135/1000\n",
            "80/80 [==============================] - 2s 22ms/step - loss: 0.5012 - accuracy: 0.7808 - val_loss: 0.5579 - val_accuracy: 0.7547\n",
            "Epoch 136/1000\n",
            "80/80 [==============================] - 2s 22ms/step - loss: 0.4971 - accuracy: 0.7784 - val_loss: 0.5582 - val_accuracy: 0.7532\n",
            "Epoch 137/1000\n",
            "80/80 [==============================] - 2s 22ms/step - loss: 0.4994 - accuracy: 0.7811 - val_loss: 0.5580 - val_accuracy: 0.7524\n",
            "Epoch 138/1000\n",
            "80/80 [==============================] - 2s 22ms/step - loss: 0.4980 - accuracy: 0.7804 - val_loss: 0.5583 - val_accuracy: 0.7520\n",
            "Epoch 139/1000\n",
            "80/80 [==============================] - 2s 26ms/step - loss: 0.4897 - accuracy: 0.7814 - val_loss: 0.5584 - val_accuracy: 0.7532\n",
            "Epoch 140/1000\n",
            "80/80 [==============================] - 3s 32ms/step - loss: 0.4920 - accuracy: 0.7826 - val_loss: 0.5586 - val_accuracy: 0.7524\n",
            "Epoch 141/1000\n",
            "80/80 [==============================] - 2s 28ms/step - loss: 0.4915 - accuracy: 0.7839 - val_loss: 0.5588 - val_accuracy: 0.7488\n"
          ]
        }
      ]
    },
    {
      "cell_type": "code",
      "source": [
        "predictions2 = model.predict(X_test)"
      ],
      "metadata": {
        "colab": {
          "base_uri": "https://localhost:8080/"
        },
        "id": "4QfO4PBFOlGL",
        "outputId": "2373956c-d375-4ad3-cd06-93e4246b4d43"
      },
      "execution_count": 29,
      "outputs": [
        {
          "output_type": "stream",
          "name": "stdout",
          "text": [
            "100/100 [==============================] - 0s 3ms/step\n"
          ]
        }
      ]
    },
    {
      "cell_type": "code",
      "source": [
        "predictions2"
      ],
      "metadata": {
        "colab": {
          "base_uri": "https://localhost:8080/"
        },
        "id": "2eEOQRTwO3M6",
        "outputId": "56cdc045-9aed-41ac-a313-512f4798e439"
      },
      "execution_count": 34,
      "outputs": [
        {
          "output_type": "execute_result",
          "data": {
            "text/plain": [
              "array([[3.2634763e-03, 9.8493868e-01, 1.1797732e-02],\n",
              "       [1.1030552e-03, 1.4183380e-01, 8.5706323e-01],\n",
              "       [6.7008123e-02, 8.1419414e-01, 1.1879773e-01],\n",
              "       ...,\n",
              "       [4.8259560e-02, 8.7818283e-01, 7.3557578e-02],\n",
              "       [5.1013050e-03, 4.8747945e-01, 5.0741923e-01],\n",
              "       [2.6699374e-04, 1.2188187e-01, 8.7785119e-01]], dtype=float32)"
            ]
          },
          "metadata": {},
          "execution_count": 34
        }
      ]
    },
    {
      "cell_type": "code",
      "source": [
        "predictions"
      ],
      "metadata": {
        "colab": {
          "base_uri": "https://localhost:8080/"
        },
        "id": "LTmHEGZYPDMx",
        "outputId": "e384db3f-3875-4500-f8b6-9dd72a125d0d"
      },
      "execution_count": 38,
      "outputs": [
        {
          "output_type": "execute_result",
          "data": {
            "text/plain": [
              "array([1, 2, 1, ..., 1, 2, 2])"
            ]
          },
          "metadata": {},
          "execution_count": 38
        }
      ]
    },
    {
      "cell_type": "code",
      "source": [
        "test_loss, test_acc =  model.evaluate(X_test,y_test)"
      ],
      "metadata": {
        "colab": {
          "base_uri": "https://localhost:8080/"
        },
        "id": "_EXFYZY4zMW3",
        "outputId": "7bda6e92-e64d-4c6b-c75c-38503f78531e"
      },
      "execution_count": 36,
      "outputs": [
        {
          "output_type": "stream",
          "name": "stdout",
          "text": [
            "100/100 [==============================] - 0s 4ms/step - loss: 0.5691 - accuracy: 0.7429\n"
          ]
        }
      ]
    },
    {
      "cell_type": "code",
      "source": [
        "predictions = np.argmax(model.predict(X_test), axis=1)"
      ],
      "metadata": {
        "colab": {
          "base_uri": "https://localhost:8080/"
        },
        "id": "vktabwYBzV23",
        "outputId": "65809f6f-5188-4c4e-c5e8-841a55c0ba57"
      },
      "execution_count": 37,
      "outputs": [
        {
          "output_type": "stream",
          "name": "stdout",
          "text": [
            "100/100 [==============================] - 0s 4ms/step\n"
          ]
        }
      ]
    },
    {
      "cell_type": "code",
      "source": [
        "confusion_matrix(y_test, predictions)"
      ],
      "metadata": {
        "colab": {
          "base_uri": "https://localhost:8080/",
          "height": 178
        },
        "id": "5nDc-iVkzX-X",
        "outputId": "d5464367-0b38-48ca-b5ec-6f8cb57ce803"
      },
      "execution_count": 31,
      "outputs": [
        {
          "output_type": "error",
          "ename": "NameError",
          "evalue": "ignored",
          "traceback": [
            "\u001b[0;31m---------------------------------------------------------------------------\u001b[0m",
            "\u001b[0;31mNameError\u001b[0m                                 Traceback (most recent call last)",
            "\u001b[0;32m<ipython-input-31-f37d423be3ec>\u001b[0m in \u001b[0;36m<cell line: 1>\u001b[0;34m()\u001b[0m\n\u001b[0;32m----> 1\u001b[0;31m \u001b[0mconfusion_matrix\u001b[0m\u001b[0;34m(\u001b[0m\u001b[0my_test\u001b[0m\u001b[0;34m,\u001b[0m \u001b[0mpredictions\u001b[0m\u001b[0;34m)\u001b[0m\u001b[0;34m\u001b[0m\u001b[0;34m\u001b[0m\u001b[0m\n\u001b[0m",
            "\u001b[0;31mNameError\u001b[0m: name 'predictions' is not defined"
          ]
        }
      ]
    }
  ],
  "metadata": {
    "accelerator": "GPU",
    "colab": {
      "provenance": []
    },
    "kernelspec": {
      "display_name": "Python 3",
      "name": "python3"
    },
    "language_info": {
      "name": "python"
    }
  },
  "nbformat": 4,
  "nbformat_minor": 0
}